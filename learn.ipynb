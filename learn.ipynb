{
 "cells": [
  {
   "cell_type": "code",
   "execution_count": 2,
   "metadata": {},
   "outputs": [
    {
     "name": "stdout",
     "output_type": "stream",
     "text": [
      "<class 'list'>\n",
      "[0, -1.8, 5]\n",
      "0\n",
      "<class 'numpy.ndarray'>\n",
      "[ 0.  -1.8  5. ]\n",
      "0.0\n"
     ]
    }
   ],
   "source": [
    "import numpy as np\n",
    "# 列表形式\n",
    "points = [[0, -1.8, 5], [100, -1.8, 5]]\n",
    "print(type(points))  # <class 'list'>\n",
    "print(points[0])     # [0, -1.8, 5]\n",
    "print(points[0][0])  # 0\n",
    "\n",
    "# NumPy数组形式\n",
    "points_array = np.array(points)\n",
    "print(type(points_array))  # <class 'numpy.ndarray'>\n",
    "print(points_array[0])     # [ 0.  -1.8  5. ]\n",
    "print(points_array[0,0])   # 0.0"
   ]
  },
  {
   "cell_type": "code",
   "execution_count": 3,
   "metadata": {},
   "outputs": [
    {
     "ename": "TypeError",
     "evalue": "list indices must be integers or slices, not tuple",
     "output_type": "error",
     "traceback": [
      "\u001b[1;31m---------------------------------------------------------------------------\u001b[0m",
      "\u001b[1;31mTypeError\u001b[0m                                 Traceback (most recent call last)",
      "Cell \u001b[1;32mIn[3], line 1\u001b[0m\n\u001b[1;32m----> 1\u001b[0m x_coords_array \u001b[38;5;241m=\u001b[39m \u001b[43mpoints\u001b[49m\u001b[43m[\u001b[49m\u001b[43m:\u001b[49m\u001b[43m,\u001b[49m\u001b[38;5;241;43m0\u001b[39;49m\u001b[43m]\u001b[49m  \u001b[38;5;66;03m# 获取所有x坐标\u001b[39;00m\n",
      "\u001b[1;31mTypeError\u001b[0m: list indices must be integers or slices, not tuple"
     ]
    }
   ],
   "source": [
    "x_coords_array = points[:,0]  # 获取所有x坐标"
   ]
  }
 ],
 "metadata": {
  "kernelspec": {
   "display_name": "pointCloud",
   "language": "python",
   "name": "python3"
  },
  "language_info": {
   "codemirror_mode": {
    "name": "ipython",
    "version": 3
   },
   "file_extension": ".py",
   "mimetype": "text/x-python",
   "name": "python",
   "nbconvert_exporter": "python",
   "pygments_lexer": "ipython3",
   "version": "3.13.0"
  }
 },
 "nbformat": 4,
 "nbformat_minor": 2
}
