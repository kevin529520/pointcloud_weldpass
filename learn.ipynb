{
 "cells": [
  {
   "cell_type": "code",
   "execution_count": 2,
   "metadata": {},
   "outputs": [
    {
     "name": "stdout",
     "output_type": "stream",
     "text": [
      "<class 'list'>\n",
      "[0, -1.8, 5]\n",
      "0\n",
      "<class 'numpy.ndarray'>\n",
      "[ 0.  -1.8  5. ]\n",
      "0.0\n"
     ]
    }
   ],
   "source": [
    "import numpy as np\n",
    "# 列表形式\n",
    "points = [[0, -1.8, 5], [100, -1.8, 5]]\n",
    "print(type(points))  # <class 'list'>\n",
    "print(points[0])     # [0, -1.8, 5]\n",
    "print(points[0][0])  # 0\n",
    "\n",
    "# NumPy数组形式\n",
    "points_array = np.array(points)\n",
    "print(type(points_array))  # <class 'numpy.ndarray'>\n",
    "print(points_array[0])     # [ 0.  -1.8  5. ]\n",
    "print(points_array[0,0])   # 0.0"
   ]
  },
  {
   "cell_type": "code",
   "execution_count": 3,
   "metadata": {},
   "outputs": [
    {
     "ename": "TypeError",
     "evalue": "list indices must be integers or slices, not tuple",
     "output_type": "error",
     "traceback": [
      "\u001b[1;31m---------------------------------------------------------------------------\u001b[0m",
      "\u001b[1;31mTypeError\u001b[0m                                 Traceback (most recent call last)",
      "Cell \u001b[1;32mIn[3], line 1\u001b[0m\n\u001b[1;32m----> 1\u001b[0m x_coords_array \u001b[38;5;241m=\u001b[39m \u001b[43mpoints\u001b[49m\u001b[43m[\u001b[49m\u001b[43m:\u001b[49m\u001b[43m,\u001b[49m\u001b[38;5;241;43m0\u001b[39;49m\u001b[43m]\u001b[49m  \u001b[38;5;66;03m# 获取所有x坐标\u001b[39;00m\n",
      "\u001b[1;31mTypeError\u001b[0m: list indices must be integers or slices, not tuple"
     ]
    }
   ],
   "source": [
    "x_coords_array = points[:,0]  # 获取所有x坐标"
   ]
  },
  {
   "cell_type": "code",
   "execution_count": null,
   "metadata": {},
   "outputs": [],
   "source": [
    "import os\n"
   ]
  },
  {
   "cell_type": "code",
   "execution_count": 4,
   "metadata": {},
   "outputs": [],
   "source": [
    "workpiece = \"thickboard.pcd\"\n",
    "if not os.path.exists(\"./images/\" + workpiece):\n",
    "    os.makedirs('./images/' + workpiece )"
   ]
  },
  {
   "cell_type": "code",
   "execution_count": 28,
   "metadata": {},
   "outputs": [
    {
     "data": {
      "text/plain": [
       "1"
      ]
     },
     "execution_count": 28,
     "metadata": {},
     "output_type": "execute_result"
    }
   ],
   "source": [
    "import copy\n",
    "a = 1\n",
    "b = copy.deepcopy(a)\n",
    "b"
   ]
  },
  {
   "cell_type": "code",
   "execution_count": 29,
   "metadata": {},
   "outputs": [
    {
     "data": {
      "text/plain": [
       "1"
      ]
     },
     "execution_count": 29,
     "metadata": {},
     "output_type": "execute_result"
    }
   ],
   "source": [
    "a = 2\n",
    "b"
   ]
  },
  {
   "cell_type": "code",
   "execution_count": null,
   "metadata": {},
   "outputs": [
    {
     "name": "stdout",
     "output_type": "stream",
     "text": [
      "[1, 2, 3]\n",
      "[1, 2, 3]\n"
     ]
    }
   ],
   "source": [
    "a = [1, 2, 3]\n",
    "b = list(a)\n",
    "b = a[:]\n",
    "\n",
    "b = a.copy()\n",
    "b = copy.copy(a)\n",
    "\n",
    "# b = a\n",
    "print(b)  # [1, 2, 3]\n",
    "a.append(4)\n",
    "print(b)  # [1, 2, 3, 4]"
   ]
  },
  {
   "cell_type": "code",
   "execution_count": null,
   "metadata": {},
   "outputs": [
    {
     "name": "stdout",
     "output_type": "stream",
     "text": [
      "140725807293640\n",
      "140725807293960\n"
     ]
    }
   ],
   "source": [
    "a = 10\n",
    "print(id(a)) # 140725807293640\n",
    "a = 20\n",
    "print(id(a)) # 140725807293960\n"
   ]
  },
  {
   "cell_type": "code",
   "execution_count": 31,
   "metadata": {},
   "outputs": [
    {
     "name": "stdout",
     "output_type": "stream",
     "text": [
      "修改后:\n",
      "pcd.points: [[999.   0.   0.]\n",
      " [  1.   1.   1.]]\n",
      "array1: [[999.   0.   0.]\n",
      " [  1.   1.   1.]]\n",
      "array2: [[888.   0.   0.]\n",
      " [  1.   1.   1.]]\n",
      "array3: [[777.   0.   0.]\n",
      " [  1.   1.   1.]]\n"
     ]
    }
   ],
   "source": [
    "def demonstrate_access_methods():\n",
    "    # 创建数据\n",
    "    points = np.array([[0,0,0], [1,1,1]], dtype=np.float64)\n",
    "    pcd = o3d.geometry.PointCloud()\n",
    "    pcd.points = o3d.utility.Vector3dVector(points)\n",
    "    \n",
    "    # 不同的访问方式\n",
    "    array1 = np.asarray(pcd.points)        # 共享内存\n",
    "    array2 = np.array(pcd.points)          # 创建新副本\n",
    "    array3 = np.asarray(pcd.points).copy() # 显式创建副本\n",
    "    \n",
    "    # 修改测试\n",
    "    array1[0,0] = 999\n",
    "    array2[0,0] = 888\n",
    "    array3[0,0] = 777\n",
    "    \n",
    "    print(\"修改后:\")\n",
    "    print(\"pcd.points:\", np.asarray(pcd.points))\n",
    "    print(\"array1:\", array1)\n",
    "    print(\"array2:\", array2)\n",
    "    print(\"array3:\", array3)\n",
    "\n",
    "demonstrate_access_methods()"
   ]
  }
 ],
 "metadata": {
  "kernelspec": {
   "display_name": "pointCloud",
   "language": "python",
   "name": "python3"
  },
  "language_info": {
   "codemirror_mode": {
    "name": "ipython",
    "version": 3
   },
   "file_extension": ".py",
   "mimetype": "text/x-python",
   "name": "python",
   "nbconvert_exporter": "python",
   "pygments_lexer": "ipython3",
   "version": "3.13.0"
  }
 },
 "nbformat": 4,
 "nbformat_minor": 2
}
