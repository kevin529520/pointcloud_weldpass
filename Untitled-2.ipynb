{
 "cells": [
  {
   "cell_type": "markdown",
   "metadata": {},
   "source": [
    "# Import Required Libraries\n",
    "Import the necessary libraries, including Open3D."
   ]
  },
  {
   "cell_type": "code",
   "execution_count": 1,
   "metadata": {},
   "outputs": [],
   "source": [
    "import open3d as o3d  # Import Open3D library for point cloud processing\n",
    "import numpy as np  # Import NumPy for numerical operations"
   ]
  },
  {
   "cell_type": "markdown",
   "metadata": {},
   "source": [
    "# Read Point Cloud Data\n",
    "Read the point cloud data from a file using Open3D."
   ]
  },
  {
   "cell_type": "code",
   "execution_count": 3,
   "metadata": {},
   "outputs": [
    {
     "name": "stdout",
     "output_type": "stream",
     "text": [
      "[Open3D WARNING] GLFW Error: WGL: Failed to make context current: 句柄无效。 \n",
      "Plane 1 normal vector: [-0.38477764  0.02494551  0.92267215]\n",
      "Plane 2 normal vector: [ 0.93180933 -0.03891701  0.36085571]\n",
      "[Open3D WARNING] GLFW Error: WGL: Failed to make context current: 句柄无效。 \n",
      "[Open3D WARNING] GLFW Error: WGL: Failed to make context current: 不支持请求的转换操作。 \n",
      "[Open3D WARNING] GLFW Error: WGL: Failed to make context current: 不支持请求的转换操作。 \n",
      "[Open3D WARNING] GLFW Error: WGL: Failed to make context current: 句柄无效。 \n",
      "[Open3D WARNING] GLFW Error: WGL: Failed to make context current: 句柄无效。 \n"
     ]
    }
   ],
   "source": [
    "# Read Point Cloud Data\n",
    "# Read the point cloud data from a file using Open3D\n",
    "\n",
    "# Read point cloud data from a PCD file\n",
    "pcd = o3d.io.read_point_cloud(\"thickboard.pcd\")  # Read PCD format point cloud data file\n",
    "\n",
    "# Display the point cloud data\n",
    "o3d.visualization.draw_geometries([pcd])\n",
    "# Segment the first plane\n",
    "plane_model_1, inliers_1 = pcd.segment_plane(distance_threshold=0.5, ransac_n=3, num_iterations=1000)\n",
    "inlier_cloud_1 = pcd.select_by_index(inliers_1)\n",
    "outlier_cloud_1 = pcd.select_by_index(inliers_1, invert=True)\n",
    "\n",
    "# Segment the second plane from the remaining points\n",
    "plane_model_2, inliers_2 = outlier_cloud_1.segment_plane(distance_threshold=0.5, ransac_n=3, num_iterations=1000)\n",
    "inlier_cloud_2 = outlier_cloud_1.select_by_index(inliers_2)\n",
    "outlier_cloud_2 = outlier_cloud_1.select_by_index(inliers_2, invert=True)\n",
    "\n",
    "# Display the two planes\n",
    "o3d.visualization.draw_geometries([inlier_cloud_1, inlier_cloud_2])\n",
    "\n",
    "# Print the normal vectors of the two planes\n",
    "print(\"Plane 1 normal vector:\", plane_model_1[:3])\n",
    "print(\"Plane 2 normal vector:\", plane_model_2[:3])\n",
    "# Find the point with the maximum Z value\n",
    "max_z_point = max(pcd.points, key=lambda point: point[2])\n",
    "\n",
    "# Create coordinate axes using the normal vectors of the two planes\n",
    "axes = o3d.geometry.TriangleMesh.create_coordinate_frame(size=50, origin=max_z_point)\n",
    "\n",
    "# Rotate the axes to align with the normal vectors of the planes\n",
    "R1 = axes.get_rotation_matrix_from_xyz(plane_model_1[:3])\n",
    "R2 = axes.get_rotation_matrix_from_xyz(plane_model_2[:3])\n",
    "axes.rotate(R1, center=max_z_point)\n",
    "axes.rotate(R2, center=max_z_point)\n",
    "\n",
    "# Display the point cloud data with the coordinate axes\n",
    "o3d.visualization.draw_geometries([inlier_cloud_1, inlier_cloud_2, axes])"
   ]
  },
  {
   "cell_type": "markdown",
   "metadata": {},
   "source": [
    "# Crop Point Cloud\n",
    "Crop the point cloud data to a specified region of interest."
   ]
  },
  {
   "cell_type": "code",
   "execution_count": 30,
   "metadata": {},
   "outputs": [],
   "source": [
    "# Crop Point Cloud\n",
    "# Define a bounding box for cropping\n",
    "bbox = o3d.geometry.AxisAlignedBoundingBox(min_bound=(-150, -10, 510), max_bound=(100, 60, 540))\n",
    "\n",
    "# Crop the point cloud using the bounding box\n",
    "cropped_pcd = pcd.crop(bbox)\n",
    "\n",
    "# Display the cropped point cloud data\n",
    "o3d.visualization.draw_geometries([cropped_pcd])"
   ]
  },
  {
   "cell_type": "markdown",
   "metadata": {},
   "source": [
    "# Denoise Point Cloud\n",
    "Apply denoising techniques to the point cloud data to remove noise."
   ]
  },
  {
   "cell_type": "code",
   "execution_count": 29,
   "metadata": {},
   "outputs": [],
   "source": [
    "# Denoise Point Cloud\n",
    "# Apply statistical outlier removal to denoise the point cloud\n",
    "cl, ind = cropped_pcd.remove_statistical_outlier(nb_neighbors=5, std_ratio=3.0)\n",
    "\n",
    "# Select inliers (denoised point cloud)\n",
    "denoised_pcd = cropped_pcd.select_by_index(ind)\n",
    "# denoised_pcd = pcd.select_by_index(ind)\n",
    "\n",
    "# Display the denoised point cloud data\n",
    "o3d.visualization.draw_geometries([denoised_pcd])"
   ]
  },
  {
   "cell_type": "markdown",
   "metadata": {},
   "source": [
    "# Slice Point Cloud\n",
    "Slice the point cloud data into smaller sections."
   ]
  },
  {
   "cell_type": "code",
   "execution_count": 41,
   "metadata": {},
   "outputs": [],
   "source": [
    "# Slice Point Cloud\n",
    "# Define a plane to slice the point cloud\n",
    "plane_model, inliers = denoised_pcd.segment_plane(distance_threshold=0.5, ransac_n=3, num_iterations=1000)\n",
    "#  0.01\n",
    "\n",
    "\n",
    "# Extract inliers (points on the plane)\n",
    "inlier_cloud = denoised_pcd.select_by_index(inliers)\n",
    "\n",
    "# Extract outliers (points not on the plane)\n",
    "# outlier_cloud = denoised_pcd.select_by_index(inliers, invert=True)\n",
    "\n",
    "# Display the sliced point cloud data (inliers and outliers)\n",
    "o3d.visualization.draw_geometries([inlier_cloud])\n",
    "# o3d.visualization.draw_geometries([inlier_cloud, outlier_cloud])"
   ]
  },
  {
   "cell_type": "markdown",
   "metadata": {},
   "source": [
    "# Project Point Cloud\n",
    "Project the point cloud data onto a specified plane."
   ]
  },
  {
   "cell_type": "code",
   "execution_count": 26,
   "metadata": {},
   "outputs": [],
   "source": [
    "# Project Point Cloud\n",
    "# Define a plane for projection (e.g., XY plane)\n",
    "plane_normal = np.array([0, 0, 1])\n",
    "plane_point = np.array([0, 0, 0])\n",
    "\n",
    "# Project points onto the plane\n",
    "projected_points = []\n",
    "for point in np.asarray(denoised_pcd.points):\n",
    "    vector = point - plane_point\n",
    "    distance = np.dot(vector, plane_normal)\n",
    "    projected_point = point - distance * plane_normal\n",
    "    projected_points.append(projected_point)\n",
    "\n",
    "# Create a new point cloud with the projected points\n",
    "projected_pcd = o3d.geometry.PointCloud()\n",
    "projected_pcd.points = o3d.utility.Vector3dVector(np.array(projected_points))\n",
    "\n",
    "# Display the projected point cloud data\n",
    "o3d.visualization.draw_geometries([projected_pcd])"
   ]
  },
  {
   "cell_type": "markdown",
   "metadata": {},
   "source": [
    "# Fit Model to Point Cloud\n",
    "Fit a geometric model to the point cloud data."
   ]
  },
  {
   "cell_type": "code",
   "execution_count": 27,
   "metadata": {},
   "outputs": [
    {
     "name": "stdout",
     "output_type": "stream",
     "text": [
      "[Open3D WARNING] The number of points is 0 when creating axis-aligned bounding box.\n"
     ]
    }
   ],
   "source": [
    "# Fit Model to Point Cloud\n",
    "# Fit a plane to the point cloud data using RANSAC\n",
    "\n",
    "# Use RANSAC to fit a plane model to the point cloud\n",
    "plane_model, inliers = projected_pcd.segment_plane(distance_threshold=0.01, ransac_n=3, num_iterations=1000)\n",
    "\n",
    "# Extract inliers (points on the plane)\n",
    "inlier_cloud = projected_pcd.select_by_index(inliers)\n",
    "\n",
    "# Extract outliers (points not on the plane)\n",
    "outlier_cloud = projected_pcd.select_by_index(inliers, invert=True)\n",
    "\n",
    "# Display the fitted plane and the remaining points\n",
    "o3d.visualization.draw_geometries([inlier_cloud, outlier_cloud])"
   ]
  }
 ],
 "metadata": {
  "kernelspec": {
   "display_name": "pointCloud",
   "language": "python",
   "name": "python3"
  },
  "language_info": {
   "codemirror_mode": {
    "name": "ipython",
    "version": 3
   },
   "file_extension": ".py",
   "mimetype": "text/x-python",
   "name": "python",
   "nbconvert_exporter": "python",
   "pygments_lexer": "ipython3",
   "version": "3.13.0"
  }
 },
 "nbformat": 4,
 "nbformat_minor": 2
}
