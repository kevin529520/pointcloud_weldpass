{
 "cells": [
  {
   "cell_type": "markdown",
   "metadata": {},
   "source": [
    "# Import Required Libraries\n",
    "Import the necessary libraries, including Open3D."
   ]
  },
  {
   "cell_type": "code",
   "execution_count": 1,
   "metadata": {},
   "outputs": [],
   "source": [
    "import open3d as o3d  # Import Open3D library for point cloud processing\n",
    "import numpy as np  # Import NumPy for numerical operations"
   ]
  },
  {
   "cell_type": "markdown",
   "metadata": {},
   "source": [
    "# Read Point Cloud Data\n",
    "Read the point cloud data from a file using Open3D."
   ]
  },
  {
   "cell_type": "code",
   "execution_count": 2,
   "metadata": {},
   "outputs": [
    {
     "name": "stdout",
     "output_type": "stream",
     "text": [
      "平面1法向量: [ 0.04594695  0.99891191 -0.0079917 ]\n",
      "平面2法向量: [ 0.93118222 -0.03993256  0.36236041]\n",
      "旋转矩阵: [[ 0.04594695  0.93118222  0.38446766]\n",
      " [ 0.99891191 -0.03993256 -0.02506712]\n",
      " [-0.0079917   0.36236041 -0.92279806]]\n",
      "坐标系原点: [  3.71207905   0.55968571 537.33026123]\n"
     ]
    }
   ],
   "source": [
    "import open3d as o3d\n",
    "import numpy as np\n",
    "\n",
    "# 读取点云\n",
    "# pcd = o3d.io.read_point_cloud(\"./pointcloud/thickboard.pcd\")\n",
    "workpiece = \"./pointcloud/thickboard.pcd\"\n",
    "pcd = o3d.io.read_point_cloud(workpiece)\n",
    "\n",
    "# 分割第一个平面\n",
    "plane_model_1, inliers_1 = pcd.segment_plane(distance_threshold=0.5, ransac_n=3, num_iterations=1000)\n",
    "inlier_cloud_1 = pcd.select_by_index(inliers_1)\n",
    "outlier_cloud_1 = pcd.select_by_index(inliers_1, invert=True)\n",
    "\n",
    "# 分割第二个平面\n",
    "plane_model_2, inliers_2 = outlier_cloud_1.segment_plane(distance_threshold=0.5, ransac_n=3, num_iterations=1000)\n",
    "inlier_cloud_2 = outlier_cloud_1.select_by_index(inliers_2)\n",
    "outlier_cloud_2 = outlier_cloud_1.select_by_index(inliers_2, invert=True)\n",
    "\n",
    "# 获取平面法向量\n",
    "normal_1 = np.array(plane_model_1[:3])\n",
    "normal_2 = np.array(plane_model_2[:3])\n",
    "\n",
    "# 归一化法向量\n",
    "normal_1 = normal_1 / np.linalg.norm(normal_1)\n",
    "normal_2 = normal_2 / np.linalg.norm(normal_2)\n",
    "\n",
    "# 计算坐标系的旋转矩阵\n",
    "# 使用第一个平面的法向量作为z轴\n",
    "z_axis = - normal_1\n",
    "y_axis = normal_2\n",
    "# 计算x轴（使用叉积）\n",
    "x_axis = np.cross(normal_1, normal_2)\n",
    "x_axis = x_axis / np.linalg.norm(x_axis)\n",
    "\n",
    "# 打印平面法向量\n",
    "print(\"平面1法向量:\", x_axis)\n",
    "print(\"平面2法向量:\", y_axis)\n",
    "\n",
    "# 构建旋转矩阵\n",
    "rotation_matrix = np.vstack((x_axis, y_axis, z_axis)).T\n",
    "print(\"旋转矩阵:\", rotation_matrix)\n",
    "# 计算逆矩阵\n",
    "inverse_rotation_matrix = np.linalg.inv(rotation_matrix)\n",
    "# print(\"逆矩阵:\", inverse_rotation_matrix)\n",
    "\n",
    "# 找到最高点作为坐标系原点\n",
    "points = np.asarray(pcd.points)\n",
    "max_z_point = points[np.argmax(points[:, 2])]\n",
    "print(\"坐标系原点:\", max_z_point)\n",
    "\n",
    "# 创建坐标系\n",
    "frames = []\n",
    "camera_frame = o3d.geometry.TriangleMesh.create_coordinate_frame(size=50)\n",
    "frames.append(camera_frame)\n",
    "workpiece_frame = o3d.geometry.TriangleMesh.create_coordinate_frame(size=50, origin=max_z_point)\n",
    "workpiece_frame.rotate(rotation_matrix, center=max_z_point)\n",
    "frames.append(workpiece_frame)\n",
    "\n",
    "\n",
    "# 可视化\n",
    "o3d.visualization.draw_geometries([inlier_cloud_1, outlier_cloud_1] + [frames[0]])\n",
    "# o3d.visualization.draw_geometries([pcd] + frames)\n",
    "# o3d.visualization.draw_geometries([pcd, camera_frame])\n"
   ]
  },
  {
   "cell_type": "code",
   "execution_count": 3,
   "metadata": {},
   "outputs": [
    {
     "name": "stdout",
     "output_type": "stream",
     "text": [
      "平面1法向量: [-0.38446766  0.02506712  0.92279806]\n",
      "平面2法向量: [ 0.93118222 -0.03993256  0.36236041]\n",
      "TriangleMesh with 1134 points and 2240 triangles.\n"
     ]
    }
   ],
   "source": [
    "# 将点云数据从camera_frame转换到workpiece_frame\n",
    "def transform_point_cloud(pcd, rotation_matrix, translation_vector):\n",
    "    \"\"\"\n",
    "    将点云数据从一个坐标系转换到另一个坐标系\n",
    "    \n",
    "    参数:\n",
    "    pcd: Open3D点云对象\n",
    "    rotation_matrix: 旋转矩阵\n",
    "    translation_vector: 平移向量\n",
    "    \"\"\"\n",
    "    # 获取点云中的点\n",
    "    points = np.asarray(pcd.points)\n",
    "    \n",
    "    # 应用旋转矩阵和平移向量进行坐标变换\n",
    "    transformed_points = np.dot(points, rotation_matrix) -np.dot(translation_vector, rotation_matrix)\n",
    "    # points -= translation_vector  \n",
    "    # transformed_points = np.dot(points, rotation_matrix) \n",
    "    \n",
    "    # 创建新的点云对象\n",
    "    transformed_pcd = o3d.geometry.PointCloud()\n",
    "    transformed_pcd.points = o3d.utility.Vector3dVector(transformed_points)\n",
    "    \n",
    "    return transformed_pcd\n",
    "\n",
    "# 计算平移向量\n",
    "translation_vector =   max_z_point\n",
    "# translation_vector = [-3.71207905, -0.55968571, 537.33026123]\n",
    "\n",
    "\n",
    "# 转换点云数据\n",
    "transformed_pcd = transform_point_cloud(pcd, rotation_matrix , translation_vector)\n",
    "\n",
    "\n",
    "\n",
    "# 显示转换后的点云数据\n",
    "o3d.visualization.draw_geometries([pcd, transformed_pcd, camera_frame])\n",
    "# o3d.visualization.draw_geometries([pcd, camera_frame])\n",
    "# o3d.visualization.draw_geometries([pcd, transformed_pcd])\n",
    "o3d.io.write_point_cloud(\"./pointcloud/transformed_pcd.pcd\", transformed_pcd)\n",
    "print(\"平面1法向量:\", normal_1)\n",
    "print(\"平面2法向量:\", normal_2)\n",
    "print(camera_frame)"
   ]
  },
  {
   "cell_type": "code",
   "execution_count": 4,
   "metadata": {},
   "outputs": [
    {
     "name": "stdout",
     "output_type": "stream",
     "text": [
      "[[ 320.8023301  -134.97818933  167.50658697]\n",
      " [ 320.91939986 -134.83549505  167.36521062]\n",
      " [ 321.03864007 -134.69537799  167.21394083]\n",
      " ...\n",
      " [ 178.05056882   31.2509522   131.36816965]\n",
      " [ 177.95816243   31.40415125  131.75075414]\n",
      " [ 177.88707666   31.56370112  132.04828623]]\n"
     ]
    }
   ],
   "source": [
    "weldpos_workpiece= [[0, -1.8253968253968254, 5],[10, -1.8253968253968254, 5]]\n",
    "weldpos_camera = np.dot(points, rotation_matrix.T) + translation_vector\n",
    "print(weldpos_camera)"
   ]
  },
  {
   "cell_type": "code",
   "execution_count": 5,
   "metadata": {},
   "outputs": [
    {
     "name": "stdout",
     "output_type": "stream",
     "text": [
      "[[9.31718756e+00 1.56303235e-01 5.19135647e+02]\n",
      " [9.41095685e+00 2.19489898e+00 5.19119337e+02]\n",
      " [9.50472615e+00 4.23349472e+00 5.19103027e+02]\n",
      " [9.59849544e+00 6.27209046e+00 5.19086718e+02]\n",
      " [9.69226473e+00 8.31068620e+00 5.19070408e+02]\n",
      " [9.78603403e+00 1.03492819e+01 5.19054099e+02]\n",
      " [9.87980332e+00 1.23878777e+01 5.19037789e+02]\n",
      " [9.97357262e+00 1.44264734e+01 5.19021479e+02]\n",
      " [1.00673419e+01 1.64650692e+01 5.19005170e+02]\n",
      " [1.01611112e+01 1.85036649e+01 5.18988860e+02]\n",
      " [1.02548805e+01 2.05422606e+01 5.18972551e+02]\n",
      " [1.03486498e+01 2.25808564e+01 5.18956241e+02]\n",
      " [1.04424191e+01 2.46194521e+01 5.18939931e+02]\n",
      " [1.05361884e+01 2.66580479e+01 5.18923622e+02]\n",
      " [1.06299577e+01 2.86966436e+01 5.18907312e+02]\n",
      " [1.07237270e+01 3.07352394e+01 5.18891003e+02]\n",
      " [1.08174963e+01 3.27738351e+01 5.18874693e+02]\n",
      " [1.09112656e+01 3.48124308e+01 5.18858384e+02]\n",
      " [1.10050348e+01 3.68510266e+01 5.18842074e+02]\n",
      " [1.10988041e+01 3.88896223e+01 5.18825764e+02]\n",
      " [1.11925734e+01 4.09282181e+01 5.18809455e+02]\n",
      " [1.12863427e+01 4.29668138e+01 5.18793145e+02]\n",
      " [1.13801120e+01 4.50054095e+01 5.18776836e+02]\n",
      " [1.14738813e+01 4.70440053e+01 5.18760526e+02]\n",
      " [1.15676506e+01 4.90826010e+01 5.18744216e+02]\n",
      " [1.16614199e+01 5.11211968e+01 5.18727907e+02]\n",
      " [1.17551892e+01 5.31597925e+01 5.18711597e+02]\n",
      " [1.18489585e+01 5.51983882e+01 5.18695288e+02]\n",
      " [1.19427278e+01 5.72369840e+01 5.18678978e+02]\n",
      " [1.20364971e+01 5.92755797e+01 5.18662668e+02]\n",
      " [1.21302664e+01 6.13141755e+01 5.18646359e+02]\n",
      " [1.22240357e+01 6.33527712e+01 5.18630049e+02]\n",
      " [1.23178050e+01 6.53913669e+01 5.18613740e+02]\n",
      " [1.24115743e+01 6.74299627e+01 5.18597430e+02]\n",
      " [1.25053435e+01 6.94685584e+01 5.18581120e+02]\n",
      " [1.25991128e+01 7.15071542e+01 5.18564811e+02]\n",
      " [1.26928821e+01 7.35457499e+01 5.18548501e+02]\n",
      " [1.27866514e+01 7.55843457e+01 5.18532192e+02]\n",
      " [1.28804207e+01 7.76229414e+01 5.18515882e+02]\n",
      " [1.29741900e+01 7.96615371e+01 5.18499573e+02]\n",
      " [1.30679593e+01 8.17001329e+01 5.18483263e+02]\n",
      " [1.31617286e+01 8.37387286e+01 5.18466953e+02]\n",
      " [1.32554979e+01 8.57773244e+01 5.18450644e+02]\n",
      " [1.33492672e+01 8.78159201e+01 5.18434334e+02]\n",
      " [1.34430365e+01 8.98545158e+01 5.18418025e+02]\n",
      " [1.35368058e+01 9.18931116e+01 5.18401715e+02]\n",
      " [1.36305751e+01 9.39317073e+01 5.18385405e+02]\n",
      " [1.37243444e+01 9.59703031e+01 5.18369096e+02]\n",
      " [1.38181137e+01 9.80088988e+01 5.18352786e+02]\n",
      " [1.39118830e+01 1.00047495e+02 5.18336477e+02]]\n"
     ]
    }
   ],
   "source": [
    "import numpy as np\n",
    "\n",
    "def interpolate_weldpos(weldpos_workpiece, num_points):\n",
    "    \"\"\"\n",
    "    插值 weldpos_workpiece 中的 yz 坐标，z 坐标保持不变，x 坐标等间距\n",
    "    \n",
    "    参数:\n",
    "    weldpos_workpiece: 原始焊接位置坐标列表，格式为 [[x1, y1, z1], [x2, y2, z2]]\n",
    "    num_points: 插值后的总点数\n",
    "    \n",
    "    返回:\n",
    "    interpolated_points: 插值后的焊接位置坐标列表\n",
    "    \"\"\"\n",
    "    # 提取原始坐标\n",
    "    x_coords = [pos[0] for pos in weldpos_workpiece]\n",
    "    y_coords = [pos[1] for pos in weldpos_workpiece]\n",
    "    z_coords = [pos[2] for pos in weldpos_workpiece]\n",
    "    \n",
    "    # 生成等间距的 x 坐标\n",
    "    x_interp = np.linspace(x_coords[0], x_coords[-1], num_points)\n",
    "    \n",
    "    # 进行线性插值\n",
    "    y_interp = np.interp(x_interp, x_coords, y_coords)\n",
    "    z_interp = np.interp(x_interp, x_coords, z_coords)  # z 坐标保持不变\n",
    "    \n",
    "    # 组合插值后的坐标\n",
    "    interpolated_points = np.column_stack((x_interp, y_interp, z_interp))\n",
    "    \n",
    "    return interpolated_points\n",
    "\n",
    "# 示例调用\n",
    "weldpos_workpiece = [[0, -1.8253968253968254, 19], [100, -1.8253968253968254, 19]]\n",
    "num_points = 100  # 插值后的总点数\n",
    "\n",
    "weldtraj_workpiece = interpolate_weldpos(weldpos_workpiece, num_points)\n",
    "weldtraj_camera = np.dot(weldtraj_workpiece, rotation_matrix.T) + translation_vector\n",
    "weldpos_camera = np.dot(weldpos_workpiece, rotation_matrix.T) + translation_vector\n",
    "weldtraj_camera2 = interpolate_weldpos(weldpos_camera, 50)\n",
    "print(weldtraj_camera2)"
   ]
  },
  {
   "cell_type": "markdown",
   "metadata": {},
   "source": [
    "# Display trajectory"
   ]
  },
  {
   "cell_type": "code",
   "execution_count": 6,
   "metadata": {},
   "outputs": [],
   "source": [
    "point_weldpos = o3d.geometry.PointCloud()\n",
    "point_weldpos.points = o3d.utility.Vector3dVector(weldtraj_camera)\n",
    "point_weldpos.paint_uniform_color([0, 1, 0])  # 将点设置为绿色\n",
    "\n",
    "point_weldpos2 = o3d.geometry.PointCloud()\n",
    "point_weldpos2.points = o3d.utility.Vector3dVector(weldtraj_camera2)\n",
    "point_weldpos2.paint_uniform_color([0, 0, 1])  # 将点设置为绿色\n",
    "\n",
    "# 可视化\n",
    "o3d.visualization.draw_geometries([inlier_cloud_1, outlier_cloud_1, point_weldpos, point_weldpos2] + [frames[0]])\n",
    "# o3d.visualization.draw_geometries([pcd] + frames)\n",
    "# o3d.visualization.draw_geometries([pcd, camera_frame])"
   ]
  },
  {
   "cell_type": "markdown",
   "metadata": {},
   "source": [
    "# Crop Point Cloud\n",
    "Crop the point cloud data to a specified region of interest."
   ]
  },
  {
   "cell_type": "code",
   "execution_count": 7,
   "metadata": {},
   "outputs": [],
   "source": [
    "# Crop Point Cloud\n",
    "# Define a bounding box for cropping\n",
    "new_pcd = o3d.io.read_point_cloud(\"./pointcloud/transformed_pcd.pcd\")\n",
    "y1_crop = -30\n",
    "y2_crop = 0 \n",
    "bbox = o3d.geometry.AxisAlignedBoundingBox(min_bound=(-15, y1_crop, -50), max_bound=(100, y2_crop, 50))\n",
    "\n",
    "# Crop the point cloud using the bounding box\n",
    "cropped_pcd = new_pcd.crop(bbox)\n",
    "\n",
    "# Display the cropped point cloud data\n",
    "\n",
    "workpiece_frame = o3d.geometry.TriangleMesh.create_coordinate_frame(size=10)\n",
    "o3d.visualization.draw_geometries([cropped_pcd] + [workpiece_frame])"
   ]
  },
  {
   "cell_type": "markdown",
   "metadata": {},
   "source": [
    "# Denoise Point Cloud\n",
    "Apply denoising techniques to the point cloud data to remove noise."
   ]
  },
  {
   "cell_type": "code",
   "execution_count": 8,
   "metadata": {},
   "outputs": [],
   "source": [
    "# Denoise Point Cloud\n",
    "# Apply statistical outlier removal to denoise the point cloud\n",
    "cl, ind = cropped_pcd.remove_statistical_outlier(nb_neighbors=50, std_ratio=2.0)\n",
    "\n",
    "# Select inliers (denoised point cloud)\n",
    "denoised_pcd = cropped_pcd.select_by_index(ind)\n",
    "# denoised_pcd = pcd.select_by_index(ind)\n",
    "\n",
    "# Display the denoised point cloud data\n",
    "o3d.visualization.draw_geometries([denoised_pcd])"
   ]
  },
  {
   "cell_type": "markdown",
   "metadata": {},
   "source": [
    "# Slice Point Cloud\n",
    "Slice the point cloud data into smaller sections."
   ]
  },
  {
   "cell_type": "code",
   "execution_count": 9,
   "metadata": {},
   "outputs": [
    {
     "name": "stdout",
     "output_type": "stream",
     "text": [
      "Points dimensions: (16994, 3)\n",
      "mask: [False False False ... False False False]\n",
      "0.15164324641227722 18.915437698364258 -29.890180587768555 -0.03811131417751312\n"
     ]
    },
    {
     "data": {
      "text/plain": [
       "<matplotlib.image.AxesImage at 0x1649ee238c0>"
      ]
     },
     "execution_count": 9,
     "metadata": {},
     "output_type": "execute_result"
    },
    {
     "data": {
      "image/png": "[encoded data removed]",
      "text/plain": [
       "<Figure size 640x480 with 1 Axes>"
      ]
     },
     "metadata": {},
     "output_type": "display_data"
    }
   ],
   "source": [
    "import matplotlib.pyplot as plt\n",
    "from PIL import Image\n",
    "\n",
    "def project_to_yz_plane(pcd, gap, resolution=20.0, x_threshold=0.1):\n",
    "    \"\"\"\n",
    "    将点云投影到YZ平面并转换为图片\n",
    "    \n",
    "    参数:\n",
    "    pcd: Open3D点云对象\n",
    "    resolution: 栅格分辨率（单位：与点云单位相同）\n",
    "    x_threshold: x方向上的截取范围（距离YZ平面的距离）\n",
    "    \"\"\"\n",
    "    # 转换为numpy数组\n",
    "    points = np.asarray(pcd.points)\n",
    "    print(\"Points dimensions:\", points.shape)\n",
    "\n",
    "    # print(points.size())\n",
    "    \n",
    "    # 截取靠近YZ平面的点（x接近0的点）\n",
    "    # mask = np.abs(points[:, 0]) < x_threshold\n",
    "    \n",
    "    mask = (np.abs(points[:, 0]) > gap) & (np.abs(points[:, 0]) < (gap + x_threshold))\n",
    "    print('mask:', mask)\n",
    "\n",
    "    yz_points = points[mask][:, 1:]  # 只保留y和z坐标\n",
    "    \n",
    "    if len(yz_points) == 0:\n",
    "        print(\"没有找到在指定范围内的点！\")\n",
    "        return None\n",
    "    \n",
    "    # 计算点云范围\n",
    "    y_min, z_min = np.min(yz_points, axis=0)\n",
    "    y_max, z_max = np.max(yz_points, axis=0)\n",
    "\n",
    "    print(z_min, z_max, y_min, y_max)\n",
    "    \n",
    "    # 计算图像尺寸\n",
    "    # height = int((z_max - z_min) / resolution) + 1\n",
    "    height = int((19) / resolution) + 1\n",
    "    # width = int((y_max - y_min) / resolution) + 1\n",
    "    width = int((y2_crop - y1_crop) / resolution) + 1\n",
    "    \n",
    "    # 创建空白图像\n",
    "    image = np.zeros((height, width), dtype=np.uint8)\n",
    "    \n",
    "    # 将点投影到图像上\n",
    "    for point in yz_points:\n",
    "        y, z = point\n",
    "        # 计算对应的像素坐标\n",
    "        pixel_x = int((y - y1_crop) / resolution)\n",
    "        pixel_y = int((z - 0) / resolution)\n",
    "        # 确保在图像范围内\n",
    "        if 0 <= pixel_x < width and 0 <= pixel_y < height:\n",
    "            image[height - 1 - pixel_y, pixel_x] = 255  # 上下翻转以匹配常规坐标系\n",
    "\n",
    "    return image\n",
    "gap = 1\n",
    "img = project_to_yz_plane(denoised_pcd, gap, resolution=0.05, x_threshold=0.5)\n",
    "# 保存图片\n",
    "if img is not None:\n",
    "    img_pil = Image.fromarray(img)\n",
    "    img_pil.save(f\"./images/projected_image_{gap}.png\")\n",
    "\n",
    "plt.imshow(img, cmap='gray')\n",
    "    "
   ]
  },
  {
   "cell_type": "code",
   "execution_count": 10,
   "metadata": {},
   "outputs": [
    {
     "data": {
      "image/png": "[encoded data removed]",
      "text/plain": [
       "<Figure size 640x480 with 1 Axes>"
      ]
     },
     "metadata": {},
     "output_type": "display_data"
    }
   ],
   "source": [
    "import cv2\n",
    "import numpy as np\n",
    "import matplotlib.pyplot as plt\n",
    "from scipy.interpolate import UnivariateSpline\n",
    "\n",
    "# 加载图像\n",
    "image = cv2.imread('./images/projected_image_5.png', cv2.IMREAD_GRAYSCALE)\n",
    "\n",
    "# 提取白色点的坐标\n",
    "points = np.column_stack(np.where(image == 255))\n",
    "\n",
    "# 按x坐标排序\n",
    "points = points[points[:, 1].argsort()]\n",
    "\n",
    "# 对相同x坐标的点取平均值\n",
    "unique_x = np.unique(points[:, 1])\n",
    "avg_points = []\n",
    "for x in unique_x:\n",
    "    y_values = points[points[:, 1] == x][:, 0]\n",
    "    avg_y = np.mean(y_values)\n",
    "    avg_points.append([avg_y, x])\n",
    "\n",
    "avg_points = np.array(avg_points)\n",
    "\n",
    "# 拟合样条曲线\n",
    "x_data = avg_points[:, 1]  # x坐标\n",
    "y_data = avg_points[:, 0]  # y坐标\n",
    "spline = UnivariateSpline(x_data, y_data, s=0.1)\n",
    "# 生成拟合曲线的点\n",
    "x_fit = np.linspace(x_data.min(), x_data.max(), 500)\n",
    "y_fit = spline(x_fit)\n",
    "\n",
    "# 绘制结果\n",
    "plt.imshow(image, cmap='gray')\n",
    "plt.plot(x_fit, y_fit, color='red', linewidth=1)\n",
    "plt.scatter(x_data, y_data, color='blue', s=1)\n",
    "plt.title('Spline Curve Fitting on White Points')\n",
    "plt.show()"
   ]
  },
  {
   "cell_type": "code",
   "execution_count": 11,
   "metadata": {},
   "outputs": [],
   "source": [
    "def workpiece2image(y_workpiece, z_workpiece):\n",
    "    \"\"\"\n",
    "    将工件坐标转换为图像坐标\n",
    "    \n",
    "    参数:\n",
    "    x_workpiece: 工件x坐标（单位：mm）\n",
    "    y_workpiece: 工件y坐标（单位：mm）\n",
    "    \n",
    "    返回值:\n",
    "    x_pix: 图像x坐标\n",
    "    y_pix: 图像y坐标\n",
    "    \"\"\"\n",
    "    # 计算图像坐标\n",
    "    x_pix = 300 - 10 * (- y_workpiece)\n",
    "    y_pix = 188 - 10 * z_workpiece\n",
    "    return x_pix, y_pix\n",
    "\n"
   ]
  }
 ],
 "metadata": {
  "kernelspec": {
   "display_name": "pointCloud",
   "language": "python",
   "name": "python3"
  },
  "language_info": {
   "codemirror_mode": {
    "name": "ipython",
    "version": 3
   },
   "file_extension": ".py",
   "mimetype": "text/x-python",
   "name": "python",
   "nbconvert_exporter": "python",
   "pygments_lexer": "ipython3",
   "version": "3.13.0"
  }
 },
 "nbformat": 4,
 "nbformat_minor": 2
}
