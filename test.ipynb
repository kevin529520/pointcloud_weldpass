{
 "cells": [
  {
   "cell_type": "code",
   "execution_count": null,
   "metadata": {},
   "outputs": [
    {
     "name": "stdout",
     "output_type": "stream",
     "text": [
      "(377, 598)\n",
      "x 327\n",
      "x 339\n",
      "x 340\n",
      "x 341\n",
      "34\n"
     ]
    }
   ],
   "source": [
    "nums = 0\n",
    "print(mask_1.shape)\n",
    "for x in range(mask_1.shape[0]):\n",
    "    if np.sum(mask_1[x] == 255) > nums:\n",
    "        print('x', x)\n",
    "        nums = np.sum(mask_1[x] == 255)\n",
    "    # nums = max(nums, np.sum(mask_1[x] == 255))\n",
    "print(nums)"
   ]
  },
  {
   "cell_type": "code",
   "execution_count": null,
   "metadata": {},
   "outputs": [
    {
     "name": "stdout",
     "output_type": "stream",
     "text": [
      "(377, 598)\n",
      "x 327\n",
      "x 339\n",
      "x 340\n",
      "x 341\n",
      "34\n"
     ]
    }
   ],
   "source": [
    "nums = 0\n",
    "for colum in range(mask_1.shape[1]):\n",
    "    nums = max(nums, np.sum(mask_1[:, colum] == 255))\n",
    "    \n",
    "print(nums)"
   ]
  }
 ],
 "metadata": {
  "kernelspec": {
   "display_name": "pointCloud",
   "language": "python",
   "name": "python3"
  },
  "language_info": {
   "name": "python",
   "version": "3.13.0"
  }
 },
 "nbformat": 4,
 "nbformat_minor": 2
}
