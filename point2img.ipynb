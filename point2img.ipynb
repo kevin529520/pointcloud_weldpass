{
 "cells": [
  {
   "cell_type": "markdown",
   "metadata": {},
   "source": [
    "# Import Required Libraries\n",
    "Import the necessary libraries, including Open3D."
   ]
  },
  {
   "cell_type": "code",
   "execution_count": 16,
   "metadata": {},
   "outputs": [],
   "source": [
    "import open3d as o3d  # Import Open3D library for point cloud processing\n",
    "import numpy as np  # Import NumPy for numerical operations"
   ]
  },
  {
   "cell_type": "markdown",
   "metadata": {},
   "source": [
    "# Read Point Cloud Data\n",
    "Read the point cloud data from a file using Open3D."
   ]
  },
  {
   "cell_type": "code",
   "execution_count": 73,
   "metadata": {},
   "outputs": [
    {
     "name": "stdout",
     "output_type": "stream",
     "text": [
      "平面1法向量: [ 0.04631076  0.99889679 -0.00777918]\n",
      "平面2法向量: [ 0.93099953 -0.04033763  0.36278473]\n",
      "旋转矩阵: [[ 0.04631076  0.93099953  0.38448946]\n",
      " [ 0.99889679 -0.04033763 -0.02501215]\n",
      " [-0.00777918  0.36278473 -0.92279047]]\n",
      "坐标系原点: [  3.71207905   0.55968571 537.33026123]\n"
     ]
    }
   ],
   "source": [
    "import open3d as o3d\n",
    "import numpy as np\n",
    "\n",
    "# 读取点云\n",
    "pcd = o3d.io.read_point_cloud(\"thickboard.pcd\")\n",
    "\n",
    "# 分割第一个平面\n",
    "plane_model_1, inliers_1 = pcd.segment_plane(distance_threshold=0.5, ransac_n=3, num_iterations=1000)\n",
    "inlier_cloud_1 = pcd.select_by_index(inliers_1)\n",
    "outlier_cloud_1 = pcd.select_by_index(inliers_1, invert=True)\n",
    "\n",
    "# 分割第二个平面\n",
    "plane_model_2, inliers_2 = outlier_cloud_1.segment_plane(distance_threshold=0.5, ransac_n=3, num_iterations=1000)\n",
    "inlier_cloud_2 = outlier_cloud_1.select_by_index(inliers_2)\n",
    "outlier_cloud_2 = outlier_cloud_1.select_by_index(inliers_2, invert=True)\n",
    "\n",
    "# 获取平面法向量\n",
    "normal_1 = np.array(plane_model_1[:3])\n",
    "normal_2 = np.array(plane_model_2[:3])\n",
    "\n",
    "# 归一化法向量\n",
    "normal_1 = normal_1 / np.linalg.norm(normal_1)\n",
    "normal_2 = normal_2 / np.linalg.norm(normal_2)\n",
    "\n",
    "# 计算坐标系的旋转矩阵\n",
    "# 使用第一个平面的法向量作为z轴\n",
    "z_axis = - normal_1\n",
    "y_axis = normal_2\n",
    "# 计算x轴（使用叉积）\n",
    "x_axis = np.cross(normal_1, normal_2)\n",
    "x_axis = x_axis / np.linalg.norm(x_axis)\n",
    "\n",
    "# 打印平面法向量\n",
    "print(\"平面1法向量:\", x_axis)\n",
    "print(\"平面2法向量:\", y_axis)\n",
    "\n",
    "# 构建旋转矩阵\n",
    "rotation_matrix = np.vstack((x_axis, y_axis, z_axis)).T\n",
    "print(\"旋转矩阵:\", rotation_matrix)\n",
    "# 计算逆矩阵\n",
    "inverse_rotation_matrix = np.linalg.inv(rotation_matrix)\n",
    "# print(\"逆矩阵:\", inverse_rotation_matrix)\n",
    "\n",
    "# 找到最高点作为坐标系原点\n",
    "points = np.asarray(pcd.points)\n",
    "max_z_point = points[np.argmax(points[:, 2])]\n",
    "print(\"坐标系原点:\", max_z_point)\n",
    "\n",
    "# 创建坐标系\n",
    "frames = []\n",
    "camera_frame = o3d.geometry.TriangleMesh.create_coordinate_frame(size=50)\n",
    "frames.append(camera_frame)\n",
    "workpiece_frame = o3d.geometry.TriangleMesh.create_coordinate_frame(size=50, origin=max_z_point)\n",
    "workpiece_frame.rotate(rotation_matrix, center=max_z_point)\n",
    "frames.append(workpiece_frame)\n",
    "\n",
    "\n",
    "# 可视化\n",
    "o3d.visualization.draw_geometries([inlier_cloud_1, outlier_cloud_1] + [frames[0]])\n",
    "# o3d.visualization.draw_geometries([pcd] + frames)\n",
    "# o3d.visualization.draw_geometries([pcd, camera_frame])\n"
   ]
  },
  {
   "cell_type": "code",
   "execution_count": 23,
   "metadata": {},
   "outputs": [
    {
     "name": "stdout",
     "output_type": "stream",
     "text": [
      "平面1法向量: [-0.3846126   0.02497159  0.92274025]\n",
      "平面2法向量: [ 0.9319482  -0.03852072  0.36053947]\n",
      "TriangleMesh with 1134 points and 2240 triangles.\n"
     ]
    }
   ],
   "source": [
    "# 将点云数据从camera_frame转换到workpiece_frame\n",
    "def transform_point_cloud(pcd, rotation_matrix, translation_vector):\n",
    "    \"\"\"\n",
    "    将点云数据从一个坐标系转换到另一个坐标系\n",
    "    \n",
    "    参数:\n",
    "    pcd: Open3D点云对象\n",
    "    rotation_matrix: 旋转矩阵\n",
    "    translation_vector: 平移向量\n",
    "    \"\"\"\n",
    "    # 获取点云中的点\n",
    "    points = np.asarray(pcd.points)\n",
    "    \n",
    "    # 应用旋转矩阵和平移向量进行坐标变换\n",
    "    transformed_points = np.dot(points, rotation_matrix) -np.dot(translation_vector, rotation_matrix)\n",
    "    # points -= translation_vector  \n",
    "    # transformed_points = np.dot(points, rotation_matrix) \n",
    "    \n",
    "    # 创建新的点云对象\n",
    "    transformed_pcd = o3d.geometry.PointCloud()\n",
    "    transformed_pcd.points = o3d.utility.Vector3dVector(transformed_points)\n",
    "    \n",
    "    return transformed_pcd\n",
    "\n",
    "# 计算平移向量\n",
    "translation_vector =   max_z_point\n",
    "# translation_vector = [-3.71207905, -0.55968571, 537.33026123]\n",
    "\n",
    "\n",
    "# 转换点云数据\n",
    "transformed_pcd = transform_point_cloud(pcd, rotation_matrix , translation_vector)\n",
    "\n",
    "\n",
    "\n",
    "# 显示转换后的点云数据\n",
    "o3d.visualization.draw_geometries([pcd, transformed_pcd, camera_frame])\n",
    "# o3d.visualization.draw_geometries([pcd, camera_frame])\n",
    "# o3d.visualization.draw_geometries([pcd, transformed_pcd])\n",
    "o3d.io.write_point_cloud(\"workpiece_frame.pcd\", transformed_pcd)\n",
    "print(\"平面1法向量:\", normal_1)\n",
    "print(\"平面2法向量:\", normal_2)\n",
    "print(camera_frame)"
   ]
  },
  {
   "cell_type": "code",
   "execution_count": null,
   "metadata": {},
   "outputs": [
    {
     "name": "stdout",
     "output_type": "stream",
     "text": [
      "[[3.93543820e+00 5.06622831e-01 5.32056083e+02]\n",
      " [4.39293717e+00 1.04958227e+01 5.31974957e+02]]\n"
     ]
    }
   ],
   "source": [
    "weldpos_workpiece= [[0, -1.8253968253968254, 5],[10, -1.8253968253968254, 5]]\n",
    "weldpos_camera = np.dot(points, rotation_matrix.T) + translation_vector\n",
    "print(weldpos_camera)"
   ]
  },
  {
   "cell_type": "code",
   "execution_count": 79,
   "metadata": {},
   "outputs": [
    {
     "name": "stdout",
     "output_type": "stream",
     "text": [
      "[[9.31793528e+00 1.58087093e-01 5.19135016e+02]\n",
      " [9.41244705e+00 2.19665197e+00 5.19119140e+02]\n",
      " [9.50695881e+00 4.23521685e+00 5.19103265e+02]\n",
      " [9.60147057e+00 6.27378173e+00 5.19087389e+02]\n",
      " [9.69598234e+00 8.31234660e+00 5.19071513e+02]\n",
      " [9.79049410e+00 1.03509115e+01 5.19055637e+02]\n",
      " [9.88500586e+00 1.23894764e+01 5.19039761e+02]\n",
      " [9.97951763e+00 1.44280412e+01 5.19023885e+02]\n",
      " [1.00740294e+01 1.64666061e+01 5.19008009e+02]\n",
      " [1.01685412e+01 1.85051710e+01 5.18992133e+02]\n",
      " [1.02630529e+01 2.05437359e+01 5.18976258e+02]\n",
      " [1.03575647e+01 2.25823008e+01 5.18960382e+02]\n",
      " [1.04520764e+01 2.46208656e+01 5.18944506e+02]\n",
      " [1.05465882e+01 2.66594305e+01 5.18928630e+02]\n",
      " [1.06411000e+01 2.86979954e+01 5.18912754e+02]\n",
      " [1.07356117e+01 3.07365603e+01 5.18896878e+02]\n",
      " [1.08301235e+01 3.27751251e+01 5.18881002e+02]\n",
      " [1.09246353e+01 3.48136900e+01 5.18865126e+02]\n",
      " [1.10191470e+01 3.68522549e+01 5.18849250e+02]\n",
      " [1.11136588e+01 3.88908198e+01 5.18833375e+02]\n",
      " [1.12081705e+01 4.09293847e+01 5.18817499e+02]\n",
      " [1.13026823e+01 4.29679495e+01 5.18801623e+02]\n",
      " [1.13971941e+01 4.50065144e+01 5.18785747e+02]\n",
      " [1.14917058e+01 4.70450793e+01 5.18769871e+02]\n",
      " [1.15862176e+01 4.90836442e+01 5.18753995e+02]\n",
      " [1.16807294e+01 5.11222090e+01 5.18738119e+02]\n",
      " [1.17752411e+01 5.31607739e+01 5.18722243e+02]\n",
      " [1.18697529e+01 5.51993388e+01 5.18706368e+02]\n",
      " [1.19642647e+01 5.72379037e+01 5.18690492e+02]\n",
      " [1.20587764e+01 5.92764686e+01 5.18674616e+02]\n",
      " [1.21532882e+01 6.13150334e+01 5.18658740e+02]\n",
      " [1.22477999e+01 6.33535983e+01 5.18642864e+02]\n",
      " [1.23423117e+01 6.53921632e+01 5.18626988e+02]\n",
      " [1.24368235e+01 6.74307281e+01 5.18611112e+02]\n",
      " [1.25313352e+01 6.94692929e+01 5.18595236e+02]\n",
      " [1.26258470e+01 7.15078578e+01 5.18579361e+02]\n",
      " [1.27203588e+01 7.35464227e+01 5.18563485e+02]\n",
      " [1.28148705e+01 7.55849876e+01 5.18547609e+02]\n",
      " [1.29093823e+01 7.76235525e+01 5.18531733e+02]\n",
      " [1.30038941e+01 7.96621173e+01 5.18515857e+02]\n",
      " [1.30984058e+01 8.17006822e+01 5.18499981e+02]\n",
      " [1.31929176e+01 8.37392471e+01 5.18484105e+02]\n",
      " [1.32874293e+01 8.57778120e+01 5.18468229e+02]\n",
      " [1.33819411e+01 8.78163768e+01 5.18452354e+02]\n",
      " [1.34764529e+01 8.98549417e+01 5.18436478e+02]\n",
      " [1.35709646e+01 9.18935066e+01 5.18420602e+02]\n",
      " [1.36654764e+01 9.39320715e+01 5.18404726e+02]\n",
      " [1.37599882e+01 9.59706364e+01 5.18388850e+02]\n",
      " [1.38544999e+01 9.80092012e+01 5.18372974e+02]\n",
      " [1.39490117e+01 1.00047766e+02 5.18357098e+02]]\n"
     ]
    }
   ],
   "source": [
    "import numpy as np\n",
    "\n",
    "def interpolate_weldpos(weldpos_workpiece, num_points):\n",
    "    \"\"\"\n",
    "    插值 weldpos_workpiece 中的 yz 坐标，z 坐标保持不变，x 坐标等间距\n",
    "    \n",
    "    参数:\n",
    "    weldpos_workpiece: 原始焊接位置坐标列表，格式为 [[x1, y1, z1], [x2, y2, z2]]\n",
    "    num_points: 插值后的总点数\n",
    "    \n",
    "    返回:\n",
    "    interpolated_points: 插值后的焊接位置坐标列表\n",
    "    \"\"\"\n",
    "    # 提取原始坐标\n",
    "    x_coords = [pos[0] for pos in weldpos_workpiece]\n",
    "    y_coords = [pos[1] for pos in weldpos_workpiece]\n",
    "    z_coords = [pos[2] for pos in weldpos_workpiece]\n",
    "    \n",
    "    # 生成等间距的 x 坐标\n",
    "    x_interp = np.linspace(x_coords[0], x_coords[-1], num_points)\n",
    "    \n",
    "    # 进行线性插值\n",
    "    y_interp = np.interp(x_interp, x_coords, y_coords)\n",
    "    z_interp = np.interp(x_interp, x_coords, z_coords)  # z 坐标保持不变\n",
    "    \n",
    "    # 组合插值后的坐标\n",
    "    interpolated_points = np.column_stack((x_interp, y_interp, z_interp))\n",
    "    \n",
    "    return interpolated_points\n",
    "\n",
    "# 示例调用\n",
    "weldpos_workpiece = [[0, -1.8253968253968254, 19], [100, -1.8253968253968254, 19]]\n",
    "num_points = 100  # 插值后的总点数\n",
    "\n",
    "weldtraj_workpiece = interpolate_weldpos(weldpos_workpiece, num_points)\n",
    "weldtraj_camera = np.dot(weldtraj_workpiece, rotation_matrix.T) + translation_vector\n",
    "weldpos_camera = np.dot(weldpos_workpiece, rotation_matrix.T) + translation_vector\n",
    "weldtraj_camera2 = interpolate_weldpos(weldpos_camera, 50)\n",
    "print(weldtraj_camera2)"
   ]
  },
  {
   "cell_type": "code",
   "execution_count": 80,
   "metadata": {},
   "outputs": [],
   "source": [
    "point_weldpos = o3d.geometry.PointCloud()\n",
    "point_weldpos.points = o3d.utility.Vector3dVector(weldtraj_camera)\n",
    "point_weldpos.paint_uniform_color([0, 1, 0])  # 将点设置为绿色\n",
    "\n",
    "point_weldpos2 = o3d.geometry.PointCloud()\n",
    "point_weldpos2.points = o3d.utility.Vector3dVector(weldtraj_camera2)\n",
    "point_weldpos2.paint_uniform_color([0, 0, 1])  # 将点设置为绿色\n",
    "\n",
    "# 可视化\n",
    "o3d.visualization.draw_geometries([inlier_cloud_1, outlier_cloud_1, point_weldpos, point_weldpos2] + [frames[0]])\n",
    "# o3d.visualization.draw_geometries([pcd] + frames)\n",
    "# o3d.visualization.draw_geometries([pcd, camera_frame])"
   ]
  },
  {
   "cell_type": "markdown",
   "metadata": {},
   "source": [
    "# Crop Point Cloud\n",
    "Crop the point cloud data to a specified region of interest."
   ]
  },
  {
   "cell_type": "code",
   "execution_count": 51,
   "metadata": {},
   "outputs": [],
   "source": [
    "# Crop Point Cloud\n",
    "# Define a bounding box for cropping\n",
    "new_pcd = o3d.io.read_point_cloud(\"workpiece_frame.pcd\")\n",
    "bbox = o3d.geometry.AxisAlignedBoundingBox(min_bound=(-15, -30, -50), max_bound=(100, 0, 50))\n",
    "\n",
    "# Crop the point cloud using the bounding box\n",
    "cropped_pcd = new_pcd.crop(bbox)\n",
    "\n",
    "# Display the cropped point cloud data\n",
    "\n",
    "workpiece_frame = o3d.geometry.TriangleMesh.create_coordinate_frame(size=10)\n",
    "o3d.visualization.draw_geometries([cropped_pcd] + [workpiece_frame])"
   ]
  },
  {
   "cell_type": "markdown",
   "metadata": {},
   "source": [
    "# Denoise Point Cloud\n",
    "Apply denoising techniques to the point cloud data to remove noise."
   ]
  },
  {
   "cell_type": "code",
   "execution_count": 74,
   "metadata": {},
   "outputs": [],
   "source": [
    "# Denoise Point Cloud\n",
    "# Apply statistical outlier removal to denoise the point cloud\n",
    "cl, ind = cropped_pcd.remove_statistical_outlier(nb_neighbors=5, std_ratio=3.0)\n",
    "\n",
    "# Select inliers (denoised point cloud)\n",
    "denoised_pcd = cropped_pcd.select_by_index(ind)\n",
    "# denoised_pcd = pcd.select_by_index(ind)\n",
    "\n",
    "# Display the denoised point cloud data\n",
    "o3d.visualization.draw_geometries([denoised_pcd])"
   ]
  },
  {
   "cell_type": "markdown",
   "metadata": {},
   "source": [
    "# Slice Point Cloud\n",
    "Slice the point cloud data into smaller sections."
   ]
  },
  {
   "cell_type": "code",
   "execution_count": 72,
   "metadata": {},
   "outputs": [
    {
     "name": "stdout",
     "output_type": "stream",
     "text": [
      "Points dimensions: (17452, 3)\n",
      "mask: [False False False ... False False False]\n",
      "0.06003328785300255 18.75077247619629 -29.790132522583008 -0.03912345692515373\n"
     ]
    },
    {
     "data": {
      "text/plain": [
       "<matplotlib.image.AxesImage at 0x17ba0b2e210>"
      ]
     },
     "execution_count": 72,
     "metadata": {},
     "output_type": "execute_result"
    },
    {
     "data": {
      "image/png": "[encoded data removed]",
      "text/plain": [
       "<Figure size 640x480 with 1 Axes>"
      ]
     },
     "metadata": {},
     "output_type": "display_data"
    }
   ],
   "source": [
    "import matplotlib.pyplot as plt\n",
    "from PIL import Image\n",
    "\n",
    "def project_to_yz_plane(pcd, gap, resolution=20.0, x_threshold=0.1):\n",
    "    \"\"\"\n",
    "    将点云投影到YZ平面并转换为图片\n",
    "    \n",
    "    参数:\n",
    "    pcd: Open3D点云对象\n",
    "    resolution: 栅格分辨率（单位：与点云单位相同）\n",
    "    x_threshold: x方向上的截取范围（距离YZ平面的距离）\n",
    "    \"\"\"\n",
    "    # 转换为numpy数组\n",
    "    points = np.asarray(pcd.points)\n",
    "    print(\"Points dimensions:\", points.shape)\n",
    "\n",
    "    # print(points.size())\n",
    "    \n",
    "    # 截取靠近YZ平面的点（x接近0的点）\n",
    "    # mask = np.abs(points[:, 0]) < x_threshold\n",
    "    \n",
    "    mask = (np.abs(points[:, 0]) > gap) & (np.abs(points[:, 0]) < (gap + x_threshold))\n",
    "    print('mask:', mask)\n",
    "\n",
    "    yz_points = points[mask][:, 1:]  # 只保留y和z坐标\n",
    "    \n",
    "    if len(yz_points) == 0:\n",
    "        print(\"没有找到在指定范围内的点！\")\n",
    "        return None\n",
    "    \n",
    "    # 计算点云范围\n",
    "    y_min, z_min = np.min(yz_points, axis=0)\n",
    "    y_max, z_max = np.max(yz_points, axis=0)\n",
    "\n",
    "    print(z_min, z_max, y_min, y_max)\n",
    "    \n",
    "    # 计算图像尺寸\n",
    "    height = int((z_max - z_min) / resolution) + 1\n",
    "    # height = int((18.8) / resolution) + 1\n",
    "    width = int((y_max - y_min) / resolution) + 1\n",
    "    \n",
    "    # 创建空白图像\n",
    "    image = np.zeros((height, width), dtype=np.uint8)\n",
    "    \n",
    "    # 将点投影到图像上\n",
    "    for point in yz_points:\n",
    "        y, z = point\n",
    "        # 计算对应的像素坐标\n",
    "        pixel_x = int((y - y_min) / resolution)\n",
    "        pixel_y = int((z - z_min) / resolution)\n",
    "        # 确保在图像范围内\n",
    "        if 0 <= pixel_x < width and 0 <= pixel_y < height:\n",
    "            image[height - 1 - pixel_y, pixel_x] = 255  # 上下翻转以匹配常规坐标系\n",
    "\n",
    "    return image\n",
    "gap = 15\n",
    "img = project_to_yz_plane(denoised_pcd, gap, resolution=0.05, x_threshold=0.5)\n",
    "# 保存图片\n",
    "if img is not None:\n",
    "    img_pil = Image.fromarray(img)\n",
    "    img_pil.save(f\"./images/projected_image_{gap}.png\")\n",
    "\n",
    "plt.imshow(img, cmap='gray')\n",
    "    "
   ]
  },
  {
   "cell_type": "code",
   "execution_count": 54,
   "metadata": {},
   "outputs": [
    {
     "data": {
      "image/png": "[encoded data removed]",
      "text/plain": [
       "<Figure size 640x480 with 1 Axes>"
      ]
     },
     "metadata": {},
     "output_type": "display_data"
    }
   ],
   "source": [
    "import cv2\n",
    "import numpy as np\n",
    "import matplotlib.pyplot as plt\n",
    "from scipy.interpolate import UnivariateSpline\n",
    "\n",
    "# 加载图像\n",
    "image = cv2.imread('projected_image.png', cv2.IMREAD_GRAYSCALE)\n",
    "\n",
    "# 提取白色点的坐标\n",
    "points = np.column_stack(np.where(image == 255))\n",
    "\n",
    "# 按x坐标排序\n",
    "points = points[points[:, 1].argsort()]\n",
    "\n",
    "# 对相同x坐标的点取平均值\n",
    "unique_x = np.unique(points[:, 1])\n",
    "avg_points = []\n",
    "for x in unique_x:\n",
    "    y_values = points[points[:, 1] == x][:, 0]\n",
    "    avg_y = np.mean(y_values)\n",
    "    avg_points.append([avg_y, x])\n",
    "\n",
    "avg_points = np.array(avg_points)\n",
    "\n",
    "# 拟合样条曲线\n",
    "x_data = avg_points[:, 1]  # x坐标\n",
    "y_data = avg_points[:, 0]  # y坐标\n",
    "spline = UnivariateSpline(x_data, y_data, s=0.1)\n",
    "# 生成拟合曲线的点\n",
    "x_fit = np.linspace(x_data.min(), x_data.max(), 500)\n",
    "y_fit = spline(x_fit)\n",
    "\n",
    "# 绘制结果\n",
    "plt.imshow(image, cmap='gray')\n",
    "plt.plot(x_fit, y_fit, color='red', linewidth=1)\n",
    "plt.scatter(x_data, y_data, color='blue', s=1)\n",
    "plt.title('Spline Curve Fitting on White Points')\n",
    "plt.show()"
   ]
  },
  {
   "cell_type": "code",
   "execution_count": 8,
   "metadata": {},
   "outputs": [
    {
     "ename": "NameError",
     "evalue": "name 'z_workpiece' is not defined",
     "output_type": "error",
     "traceback": [
      "\u001b[1;31m---------------------------------------------------------------------------\u001b[0m",
      "\u001b[1;31mNameError\u001b[0m                                 Traceback (most recent call last)",
      "Cell \u001b[1;32mIn[8], line 1\u001b[0m\n\u001b[1;32m----> 1\u001b[0m y_pix \u001b[38;5;241m=\u001b[39m \u001b[38;5;241m188\u001b[39m \u001b[38;5;241m-\u001b[39m \u001b[38;5;241m10\u001b[39m \u001b[38;5;241m*\u001b[39m \u001b[43mz_workpiece\u001b[49m\n\u001b[0;32m      2\u001b[0m \u001b[38;5;28;01mfor\u001b[39;00m point \u001b[38;5;129;01min\u001b[39;00m points:\n\u001b[0;32m      3\u001b[0m     y, z \u001b[38;5;241m=\u001b[39m point\n",
      "\u001b[1;31mNameError\u001b[0m: name 'z_workpiece' is not defined"
     ]
    }
   ],
   "source": [
    "y_pix = 188 - 10 * z_workpiece\n",
    "for point in points:\n",
    "    y, z = point\n",
    "    if y >= y_pix:\n",
    "        y = y_pix"
   ]
  },
  {
   "cell_type": "code",
   "execution_count": null,
   "metadata": {},
   "outputs": [
    {
     "name": "stdout",
     "output_type": "stream",
     "text": [
      "41910\n"
     ]
    },
    {
     "data": {
      "image/png": "[encoded data removed]",
      "text/plain": [
       "<Figure size 640x480 with 1 Axes>"
      ]
     },
     "metadata": {},
     "output_type": "display_data"
    }
   ],
   "source": [
    "import cv2\n",
    "import numpy as np\n",
    "import matplotlib.pyplot as plt\n",
    "from scipy.interpolate import UnivariateSpline\n",
    "\n",
    "# 加载图像\n",
    "image = cv2.imread('projected_image.png', cv2.IMREAD_GRAYSCALE)\n",
    "\n",
    "# 提取白色点的坐标\n",
    "points = np.column_stack(np.where(image == 255))\n",
    "\n",
    "# 按x坐标排序\n",
    "points = points[points[:, 1].argsort()]\n",
    "\n",
    "# 对相同x坐标的点取平均值\n",
    "unique_x = np.unique(points[:, 1])\n",
    "avg_points = []\n",
    "for x in unique_x:\n",
    "    y_values = points[points[:, 1] == x][:, 0]\n",
    "    avg_y = np.mean(y_values)\n",
    "    avg_points.append([avg_y, x])\n",
    "\n",
    "avg_points = np.array(avg_points)\n",
    "\n",
    "# 拟合样条曲线\n",
    "x_data = avg_points[:, 1]  # x坐标\n",
    "y_data = avg_points[:, 0]  # y坐标\n",
    "spline = UnivariateSpline(x_data, y_data, s=0.1)\n",
    "\n",
    "# 生成拟合曲线的点\n",
    "x_fit = np.linspace(x_data.min(), x_data.max(), 500)\n",
    "y_fit = spline(x_fit)\n",
    "\n",
    "# 创建掩码图像\n",
    "mask = np.zeros_like(image, dtype=np.uint8)\n",
    "\n",
    "# 将拟合曲线以下的区域填充为白色\n",
    "for i in range(len(x_fit) - 1):\n",
    "    x1, y1 = int(x_fit[i]), int(y_fit[i])\n",
    "    x2, y2 = int(x_fit[i + 1]), int(y_fit[i + 1])\n",
    "    cv2.line(mask, (x1, y1), (x2, y2), 255, 1)\n",
    "\n",
    "# 填充曲线以下的区域\n",
    "for x in range(mask.shape[1]):\n",
    "    y_values = np.where(mask[:, x] == 255)[0]\n",
    "    if len(y_values) > 0:\n",
    "        y_min = y_values.min()\n",
    "        mask[y_min:, x] = 255\n",
    "\n",
    "# 计算填充区域的面积\n",
    "area = np.sum(mask == 255)\n",
    "print(area)\n",
    "\n",
    "# 绘制结果\n",
    "plt.imshow(image, cmap='gray')\n",
    "plt.plot(x_fit, y_fit, color='red', linewidth=1)\n",
    "plt.scatter(x_data, y_data, color='blue', s=1)\n",
    "plt.imshow(mask, cmap='gray', alpha=0.5)\n",
    "plt.title(f'Spline Curve Fitting on White Points\\nArea below curve: {area} pixels')\n",
    "plt.title(f'Spline Curve Fitting on White Points\\nArea below curve: {area / 10} mm^2')\n",
    "plt.show()"
   ]
  },
  {
   "cell_type": "code",
   "execution_count": null,
   "metadata": {},
   "outputs": [],
   "source": [
    "def workpiece2image(y_workpiece, z_workpiece):\n",
    "    \"\"\"\n",
    "    将工件坐标转换为图像坐标\n",
    "    \n",
    "    参数:\n",
    "    x_workpiece: 工件x坐标（单位：mm）\n",
    "    y_workpiece: 工件y坐标（单位：mm）\n",
    "    \n",
    "    返回值:\n",
    "    x_pix: 图像x坐标\n",
    "    y_pix: 图像y坐标\n",
    "    \"\"\"\n",
    "    # 计算图像坐标\n",
    "    x_pix = 300 - 10 * (- y_workpiece)\n",
    "    y_pix = 188 - 10 * z_workpiece\n",
    "    return x_pix, y_pix\n",
    "\n"
   ]
  }
 ],
 "metadata": {
  "kernelspec": {
   "display_name": "pointCloud",
   "language": "python",
   "name": "python3"
  },
  "language_info": {
   "codemirror_mode": {
    "name": "ipython",
    "version": 3
   },
   "file_extension": ".py",
   "mimetype": "text/x-python",
   "name": "python",
   "nbconvert_exporter": "python",
   "pygments_lexer": "ipython3",
   "version": "3.13.0"
  }
 },
 "nbformat": 4,
 "nbformat_minor": 2
}
